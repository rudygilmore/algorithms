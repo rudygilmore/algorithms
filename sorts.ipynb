{
 "cells": [
  {
   "cell_type": "code",
   "execution_count": 74,
   "metadata": {
    "collapsed": false
   },
   "outputs": [
    {
     "data": {
      "text/html": [
       "<style>.container { width:85% !important; }</style>"
      ],
      "text/plain": [
       "<IPython.core.display.HTML object>"
      ]
     },
     "metadata": {},
     "output_type": "display_data"
    }
   ],
   "source": [
    "from IPython.core.display import display, HTML\n",
    "display(HTML(\"<style>.container { width:85% !important; }</style>\"))"
   ]
  },
  {
   "cell_type": "code",
   "execution_count": 3,
   "metadata": {
    "collapsed": true
   },
   "outputs": [],
   "source": [
    "import random\n",
    "import time"
   ]
  },
  {
   "cell_type": "code",
   "execution_count": 10,
   "metadata": {
    "collapsed": false
   },
   "outputs": [],
   "source": [
    "rlist_dict = {}\n",
    "for size in [10,100,1000,10000]:\n",
    "    rlst = []\n",
    "    for i in range(size):\n",
    "        rlst.append(random.random())\n",
    "    rlist_dict[size] = tuple(rlst)\n",
    "    \n",
    "    \n",
    "def is_sorted(x):\n",
    "    for i in range(1,len(x)):\n",
    "        if x[i]<x[i-1]:\n",
    "            return False\n",
    "    return True"
   ]
  },
  {
   "cell_type": "code",
   "execution_count": 5,
   "metadata": {
    "collapsed": false
   },
   "outputs": [],
   "source": [
    "def tester(sort_algo):\n",
    "    times = {}\n",
    "    #print time.time()\n",
    "    for size in rlist_dict:\n",
    "        t1 = time.time()\n",
    "        assert is_sorted(sort_algo(rlist_dict[size]))\n",
    "        t2 = time.time()\n",
    "        times[size] = (t2-t1)\n",
    "    #print time.time()\n",
    "    \n",
    "    print sorted(tuple(times.items()))"
   ]
  },
  {
   "cell_type": "code",
   "execution_count": 75,
   "metadata": {
    "collapsed": true
   },
   "outputs": [],
   "source": [
    "## insertion sort\n",
    "\n",
    "def insertion_sort(x_in):\n",
    "    x = list(x_in)\n",
    "    if len(x)<=1:\n",
    "        return x\n",
    "    for i in range(1,len(x)):\n",
    "        j=i\n",
    "        while j>0 and x[j]<x[j-1]:\n",
    "            x[j],x[j-1] = x[j-1],x[j]\n",
    "            j-=1\n",
    "    return x\n",
    "    \n",
    "    "
   ]
  },
  {
   "cell_type": "code",
   "execution_count": 7,
   "metadata": {
    "collapsed": false
   },
   "outputs": [
    {
     "name": "stdout",
     "output_type": "stream",
     "text": [
      "[(100, 0.0), (1000, 0.07299995422363281), (10000, 6.734999895095825)]\n"
     ]
    }
   ],
   "source": [
    "tester(insertion_sort)"
   ]
  },
  {
   "cell_type": "code",
   "execution_count": 76,
   "metadata": {
    "collapsed": false
   },
   "outputs": [],
   "source": [
    "## mergesort\n",
    "\n",
    "def merge(x1,x2): #merge two sorted lists of arbitrary length\n",
    "    outlst = []\n",
    "    i1,i2 = 0,0\n",
    "    while 1:\n",
    "        if i1>=len(x1):\n",
    "            outlst = outlst + x2[i2:]\n",
    "            return outlst\n",
    "    \n",
    "        elif i2>=len(x2):\n",
    "            outlst = outlst + x1[i1:]\n",
    "            return outlst\n",
    "    \n",
    "        elif x1[i1]<=x2[i2]:\n",
    "            outlst.append(x1[i1])\n",
    "            i1+=1\n",
    "        else:\n",
    "            outlst.append(x2[i2])\n",
    "            i2+=1\n",
    "    \n",
    "def merge_sort(x_in):\n",
    "    x = list(x_in)\n",
    "    level = 1\n",
    "    while level<len(x):\n",
    "        i = 0\n",
    "        while i<len(x):\n",
    "            lst1 = x[i:i+level]\n",
    "            lst2 = x[i+level:i+2*level]\n",
    "            x[i:i+2*level] = merge(lst1,lst2)\n",
    "            i = i+2*level\n",
    "        level*=2\n",
    "    return x"
   ]
  },
  {
   "cell_type": "code",
   "execution_count": 9,
   "metadata": {
    "collapsed": false
   },
   "outputs": [
    {
     "name": "stdout",
     "output_type": "stream",
     "text": [
      "[(100, 0.0), (1000, 0.003999948501586914), (10000, 0.05299997329711914)]\n"
     ]
    }
   ],
   "source": [
    "tester(merge_sort)"
   ]
  },
  {
   "cell_type": "code",
   "execution_count": 77,
   "metadata": {
    "collapsed": false
   },
   "outputs": [],
   "source": [
    "## quicksort\n",
    "\n",
    "def partition(x,xl,xh,dbg=False):\n",
    "    x = x[xl:xh]\n",
    "    if len(x)==1:\n",
    "        return x,0\n",
    "    if len(x)==2:\n",
    "        if x[0]>x[1]:\n",
    "            return [x[0],x[1]],1\n",
    "    \n",
    "    #choose pivot, use Sedgewick\n",
    "    f,m,l = x[0],x[-1],x[len(x)/2]\n",
    "    if (f<=m and m<=l) or (l<=m and m<=f):\n",
    "        x[-1],x[len(x)/2] = x[len(x)/2],x[-1]\n",
    "    if (m<=f and f<=l) or (l<=f and f<=m):\n",
    "        x[0],x[-1] = x[-1],x[0]\n",
    "    if (m<=l and l<=f) or (f<=l and l<=m):\n",
    "        pass\n",
    "    \n",
    "    p = x[-1] # set pivot\n",
    "    if dbg: print p\n",
    "    \n",
    "    i,j = 0,len(x)-2\n",
    "    while j-i>0:\n",
    "        if x[i]<p and x[j]>=p:\n",
    "            i+=1\n",
    "            j-=1\n",
    "        elif x[i]<p and x[j]<p:\n",
    "            i+=1\n",
    "        elif x[i]>=p and x[j]>=p:\n",
    "            j-=1\n",
    "        else:\n",
    "            x[i],x[j] = x[j],x[i]\n",
    "            \n",
    "    while x[i]<p: #want i on first element of right side\n",
    "        i+=1\n",
    "    x[i],x[-1] = x[-1],x[i] #move pivot into position\n",
    "    return x,i\n",
    "  \n",
    "def q_sort(x,xl,xh):\n",
    "        (x[xl:xh],p) = partition(x,xl,xh)\n",
    "    \n",
    "        if p>2:\n",
    "            q_sort(x,xl,xl+p)\n",
    "        if xh-xl+p>2:\n",
    "            q_sort(x,xl+p,xh)\n",
    "            \n",
    "def quick_sort(x_in):\n",
    "    \n",
    "    x = list(x_in)\n",
    "    q_sort(x,0,len(x))\n",
    "    return x\n",
    "    \n",
    "\n",
    "    \n",
    "    \n",
    "     "
   ]
  },
  {
   "cell_type": "code",
   "execution_count": 78,
   "metadata": {
    "collapsed": false
   },
   "outputs": [],
   "source": [
    "# heapsort\n",
    "\n",
    "class MinHeap(object):\n",
    "    \n",
    "    def heapify(self,new_data): #add new element to existing heap structure\n",
    "        self.data.append(new_data)\n",
    "        \n",
    "        i = len(self.data)-1\n",
    "        while i>0 and self.data[i]<self.data[int((i-1)/2)]:\n",
    "            self.data[i],self.data[int((i-1)/2)] = self.data[int((i-1)/2)],self.data[i]\n",
    "            i = int((i-1)/2)\n",
    "            \n",
    "    def pop_min(self):\n",
    "        if len(self.data)==1:\n",
    "            outdata = self.data[0]\n",
    "            self.data = []\n",
    "            return outdata\n",
    "        \n",
    "        self.data[0],self.data[-1] = self.data[-1],self.data[0]\n",
    "        outdata = self.data.pop()\n",
    "        i=0\n",
    "        while ((i*2+2)<len(self.data) and self.data[i]>self.data[i*2+2])\\\n",
    "            or ((i*2+1)<len(self.data) and self.data[i]>self.data[i*2+1]): #sink steps\n",
    "                \n",
    "            if (i*2+2)<len(self.data):\n",
    "                \n",
    "                if self.data[i*2+1]<self.data[i*2+2]:\n",
    "                    self.data[i],self.data[i*2+1] = self.data[i*2+1],self.data[i]\n",
    "                    i = i*2+1\n",
    "                else:\n",
    "                    self.data[i],self.data[i*2+2] = self.data[i*2+2],self.data[i]\n",
    "                    i = i*2+2\n",
    "            else:\n",
    "                self.data[i],self.data[i*2+1] = self.data[i*2+1],self.data[i]\n",
    "                i = i*2+1\n",
    "                \n",
    "            \n",
    "        return outdata\n",
    "    \n",
    "    def __init__(self,data=[]):\n",
    "        self.data = []\n",
    "        for item in data:\n",
    "            self.heapify(item)\n",
    "    \n",
    "    def peek(self):\n",
    "        return self.data[0]\n",
    "    \n",
    "    def show(self):\n",
    "        return self.data\n",
    "    \n",
    "    def size(self):\n",
    "        return len(self.data)\n",
    "    \n",
    "    def __str__(self):\n",
    "        return str(self.data)\n",
    "    \n",
    "    def __repr__(self):\n",
    "        return str(self.data)\n",
    "    \n",
    "    def is_empty(self):\n",
    "        return len(self.data)==0\n",
    "    \n",
    "    \n",
    "def heap_sort(x_in):    \n",
    "    h = MinHeap(list(x_in))\n",
    "    xout = []\n",
    "    while not h.is_empty():\n",
    "        xout.append(h.pop_min())\n",
    "    return xout\n",
    "                \n"
   ]
  },
  {
   "cell_type": "code",
   "execution_count": 79,
   "metadata": {
    "collapsed": false
   },
   "outputs": [
    {
     "name": "stdout",
     "output_type": "stream",
     "text": [
      "[(100, 0.0019490718841552734), (1000, 0.2340230941772461), (10000, 19.92778515815735)]\n",
      "[(100, 0.0006849765777587891), (1000, 0.009608983993530273), (10000, 0.13058090209960938)]\n",
      "[(100, 0.0009319782257080078), (1000, 0.01263284683227539), (10000, 0.18389081954956055)]\n",
      "[(100, 0.0016510486602783203), (1000, 0.02810192108154297), (10000, 0.34513401985168457)]\n"
     ]
    }
   ],
   "source": [
    "tester(insertion_sort)\n",
    "tester(merge_sort)\n",
    "tester(quick_sort)\n",
    "tester(heap_sort)"
   ]
  },
  {
   "cell_type": "code",
   "execution_count": 16,
   "metadata": {
    "collapsed": false
   },
   "outputs": [
    {
     "ename": "NameError",
     "evalue": "name 'x' is not defined",
     "output_type": "error",
     "traceback": [
      "\u001b[1;31m---------------------------------------------------------------------------\u001b[0m",
      "\u001b[1;31mNameError\u001b[0m                                 Traceback (most recent call last)",
      "\u001b[1;32m<ipython-input-16-401b30e3b8b5>\u001b[0m in \u001b[0;36m<module>\u001b[1;34m()\u001b[0m\n\u001b[1;32m----> 1\u001b[1;33m \u001b[0mx\u001b[0m\u001b[1;33m\u001b[0m\u001b[0m\n\u001b[0m",
      "\u001b[1;31mNameError\u001b[0m: name 'x' is not defined"
     ]
    }
   ],
   "source": [
    "x"
   ]
  },
  {
   "cell_type": "code",
   "execution_count": 17,
   "metadata": {
    "collapsed": false
   },
   "outputs": [
    {
     "name": "stdout",
     "output_type": "stream",
     "text": [
      "2\n"
     ]
    }
   ],
   "source": [
    "a=2\n",
    "def pa():\n",
    "    print a\n",
    "pa()"
   ]
  },
  {
   "cell_type": "code",
   "execution_count": null,
   "metadata": {
    "collapsed": true
   },
   "outputs": [],
   "source": []
  }
 ],
 "metadata": {
  "kernelspec": {
   "display_name": "Python 2",
   "language": "python",
   "name": "python2"
  },
  "language_info": {
   "codemirror_mode": {
    "name": "ipython",
    "version": 2
   },
   "file_extension": ".py",
   "mimetype": "text/x-python",
   "name": "python",
   "nbconvert_exporter": "python",
   "pygments_lexer": "ipython2",
   "version": "2.7.12"
  }
 },
 "nbformat": 4,
 "nbformat_minor": 0
}
